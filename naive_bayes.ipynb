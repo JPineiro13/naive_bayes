{
  "nbformat": 4,
  "nbformat_minor": 0,
  "metadata": {
    "colab": {
      "provenance": []
    },
    "kernelspec": {
      "name": "python3",
      "display_name": "Python 3"
    },
    "language_info": {
      "name": "python"
    }
  },
  "cells": [
    {
      "cell_type": "code",
      "execution_count": 33,
      "metadata": {
        "id": "No29vIwG_CNl",
        "colab": {
          "base_uri": "https://localhost:8080/",
          "height": 206
        },
        "outputId": "ca0473a3-a4da-4262-d6c4-0c3641d187f3"
      },
      "outputs": [
        {
          "output_type": "execute_result",
          "data": {
            "text/plain": [
              "          package_name                                             review  \\\n",
              "0  com.facebook.katana   privacy at least put some option appear offli...   \n",
              "1  com.facebook.katana   messenger issues ever since the last update, ...   \n",
              "2  com.facebook.katana   profile any time my wife or anybody has more ...   \n",
              "3  com.facebook.katana   the new features suck for those of us who don...   \n",
              "4  com.facebook.katana   forced reload on uploading pic on replying co...   \n",
              "\n",
              "   polarity  \n",
              "0         0  \n",
              "1         0  \n",
              "2         0  \n",
              "3         0  \n",
              "4         0  "
            ],
            "text/html": [
              "\n",
              "  <div id=\"df-d3315c41-081d-4335-b2b7-34f6e38dc683\" class=\"colab-df-container\">\n",
              "    <div>\n",
              "<style scoped>\n",
              "    .dataframe tbody tr th:only-of-type {\n",
              "        vertical-align: middle;\n",
              "    }\n",
              "\n",
              "    .dataframe tbody tr th {\n",
              "        vertical-align: top;\n",
              "    }\n",
              "\n",
              "    .dataframe thead th {\n",
              "        text-align: right;\n",
              "    }\n",
              "</style>\n",
              "<table border=\"1\" class=\"dataframe\">\n",
              "  <thead>\n",
              "    <tr style=\"text-align: right;\">\n",
              "      <th></th>\n",
              "      <th>package_name</th>\n",
              "      <th>review</th>\n",
              "      <th>polarity</th>\n",
              "    </tr>\n",
              "  </thead>\n",
              "  <tbody>\n",
              "    <tr>\n",
              "      <th>0</th>\n",
              "      <td>com.facebook.katana</td>\n",
              "      <td>privacy at least put some option appear offli...</td>\n",
              "      <td>0</td>\n",
              "    </tr>\n",
              "    <tr>\n",
              "      <th>1</th>\n",
              "      <td>com.facebook.katana</td>\n",
              "      <td>messenger issues ever since the last update, ...</td>\n",
              "      <td>0</td>\n",
              "    </tr>\n",
              "    <tr>\n",
              "      <th>2</th>\n",
              "      <td>com.facebook.katana</td>\n",
              "      <td>profile any time my wife or anybody has more ...</td>\n",
              "      <td>0</td>\n",
              "    </tr>\n",
              "    <tr>\n",
              "      <th>3</th>\n",
              "      <td>com.facebook.katana</td>\n",
              "      <td>the new features suck for those of us who don...</td>\n",
              "      <td>0</td>\n",
              "    </tr>\n",
              "    <tr>\n",
              "      <th>4</th>\n",
              "      <td>com.facebook.katana</td>\n",
              "      <td>forced reload on uploading pic on replying co...</td>\n",
              "      <td>0</td>\n",
              "    </tr>\n",
              "  </tbody>\n",
              "</table>\n",
              "</div>\n",
              "    <div class=\"colab-df-buttons\">\n",
              "\n",
              "  <div class=\"colab-df-container\">\n",
              "    <button class=\"colab-df-convert\" onclick=\"convertToInteractive('df-d3315c41-081d-4335-b2b7-34f6e38dc683')\"\n",
              "            title=\"Convert this dataframe to an interactive table.\"\n",
              "            style=\"display:none;\">\n",
              "\n",
              "  <svg xmlns=\"http://www.w3.org/2000/svg\" height=\"24px\" viewBox=\"0 -960 960 960\">\n",
              "    <path d=\"M120-120v-720h720v720H120Zm60-500h600v-160H180v160Zm220 220h160v-160H400v160Zm0 220h160v-160H400v160ZM180-400h160v-160H180v160Zm440 0h160v-160H620v160ZM180-180h160v-160H180v160Zm440 0h160v-160H620v160Z\"/>\n",
              "  </svg>\n",
              "    </button>\n",
              "\n",
              "  <style>\n",
              "    .colab-df-container {\n",
              "      display:flex;\n",
              "      gap: 12px;\n",
              "    }\n",
              "\n",
              "    .colab-df-convert {\n",
              "      background-color: #E8F0FE;\n",
              "      border: none;\n",
              "      border-radius: 50%;\n",
              "      cursor: pointer;\n",
              "      display: none;\n",
              "      fill: #1967D2;\n",
              "      height: 32px;\n",
              "      padding: 0 0 0 0;\n",
              "      width: 32px;\n",
              "    }\n",
              "\n",
              "    .colab-df-convert:hover {\n",
              "      background-color: #E2EBFA;\n",
              "      box-shadow: 0px 1px 2px rgba(60, 64, 67, 0.3), 0px 1px 3px 1px rgba(60, 64, 67, 0.15);\n",
              "      fill: #174EA6;\n",
              "    }\n",
              "\n",
              "    .colab-df-buttons div {\n",
              "      margin-bottom: 4px;\n",
              "    }\n",
              "\n",
              "    [theme=dark] .colab-df-convert {\n",
              "      background-color: #3B4455;\n",
              "      fill: #D2E3FC;\n",
              "    }\n",
              "\n",
              "    [theme=dark] .colab-df-convert:hover {\n",
              "      background-color: #434B5C;\n",
              "      box-shadow: 0px 1px 3px 1px rgba(0, 0, 0, 0.15);\n",
              "      filter: drop-shadow(0px 1px 2px rgba(0, 0, 0, 0.3));\n",
              "      fill: #FFFFFF;\n",
              "    }\n",
              "  </style>\n",
              "\n",
              "    <script>\n",
              "      const buttonEl =\n",
              "        document.querySelector('#df-d3315c41-081d-4335-b2b7-34f6e38dc683 button.colab-df-convert');\n",
              "      buttonEl.style.display =\n",
              "        google.colab.kernel.accessAllowed ? 'block' : 'none';\n",
              "\n",
              "      async function convertToInteractive(key) {\n",
              "        const element = document.querySelector('#df-d3315c41-081d-4335-b2b7-34f6e38dc683');\n",
              "        const dataTable =\n",
              "          await google.colab.kernel.invokeFunction('convertToInteractive',\n",
              "                                                    [key], {});\n",
              "        if (!dataTable) return;\n",
              "\n",
              "        const docLinkHtml = 'Like what you see? Visit the ' +\n",
              "          '<a target=\"_blank\" href=https://colab.research.google.com/notebooks/data_table.ipynb>data table notebook</a>'\n",
              "          + ' to learn more about interactive tables.';\n",
              "        element.innerHTML = '';\n",
              "        dataTable['output_type'] = 'display_data';\n",
              "        await google.colab.output.renderOutput(dataTable, element);\n",
              "        const docLink = document.createElement('div');\n",
              "        docLink.innerHTML = docLinkHtml;\n",
              "        element.appendChild(docLink);\n",
              "      }\n",
              "    </script>\n",
              "  </div>\n",
              "\n",
              "\n",
              "<div id=\"df-fcd08634-1124-4c22-96cb-fc3f00991869\">\n",
              "  <button class=\"colab-df-quickchart\" onclick=\"quickchart('df-fcd08634-1124-4c22-96cb-fc3f00991869')\"\n",
              "            title=\"Suggest charts\"\n",
              "            style=\"display:none;\">\n",
              "\n",
              "<svg xmlns=\"http://www.w3.org/2000/svg\" height=\"24px\"viewBox=\"0 0 24 24\"\n",
              "     width=\"24px\">\n",
              "    <g>\n",
              "        <path d=\"M19 3H5c-1.1 0-2 .9-2 2v14c0 1.1.9 2 2 2h14c1.1 0 2-.9 2-2V5c0-1.1-.9-2-2-2zM9 17H7v-7h2v7zm4 0h-2V7h2v10zm4 0h-2v-4h2v4z\"/>\n",
              "    </g>\n",
              "</svg>\n",
              "  </button>\n",
              "\n",
              "<style>\n",
              "  .colab-df-quickchart {\n",
              "      --bg-color: #E8F0FE;\n",
              "      --fill-color: #1967D2;\n",
              "      --hover-bg-color: #E2EBFA;\n",
              "      --hover-fill-color: #174EA6;\n",
              "      --disabled-fill-color: #AAA;\n",
              "      --disabled-bg-color: #DDD;\n",
              "  }\n",
              "\n",
              "  [theme=dark] .colab-df-quickchart {\n",
              "      --bg-color: #3B4455;\n",
              "      --fill-color: #D2E3FC;\n",
              "      --hover-bg-color: #434B5C;\n",
              "      --hover-fill-color: #FFFFFF;\n",
              "      --disabled-bg-color: #3B4455;\n",
              "      --disabled-fill-color: #666;\n",
              "  }\n",
              "\n",
              "  .colab-df-quickchart {\n",
              "    background-color: var(--bg-color);\n",
              "    border: none;\n",
              "    border-radius: 50%;\n",
              "    cursor: pointer;\n",
              "    display: none;\n",
              "    fill: var(--fill-color);\n",
              "    height: 32px;\n",
              "    padding: 0;\n",
              "    width: 32px;\n",
              "  }\n",
              "\n",
              "  .colab-df-quickchart:hover {\n",
              "    background-color: var(--hover-bg-color);\n",
              "    box-shadow: 0 1px 2px rgba(60, 64, 67, 0.3), 0 1px 3px 1px rgba(60, 64, 67, 0.15);\n",
              "    fill: var(--button-hover-fill-color);\n",
              "  }\n",
              "\n",
              "  .colab-df-quickchart-complete:disabled,\n",
              "  .colab-df-quickchart-complete:disabled:hover {\n",
              "    background-color: var(--disabled-bg-color);\n",
              "    fill: var(--disabled-fill-color);\n",
              "    box-shadow: none;\n",
              "  }\n",
              "\n",
              "  .colab-df-spinner {\n",
              "    border: 2px solid var(--fill-color);\n",
              "    border-color: transparent;\n",
              "    border-bottom-color: var(--fill-color);\n",
              "    animation:\n",
              "      spin 1s steps(1) infinite;\n",
              "  }\n",
              "\n",
              "  @keyframes spin {\n",
              "    0% {\n",
              "      border-color: transparent;\n",
              "      border-bottom-color: var(--fill-color);\n",
              "      border-left-color: var(--fill-color);\n",
              "    }\n",
              "    20% {\n",
              "      border-color: transparent;\n",
              "      border-left-color: var(--fill-color);\n",
              "      border-top-color: var(--fill-color);\n",
              "    }\n",
              "    30% {\n",
              "      border-color: transparent;\n",
              "      border-left-color: var(--fill-color);\n",
              "      border-top-color: var(--fill-color);\n",
              "      border-right-color: var(--fill-color);\n",
              "    }\n",
              "    40% {\n",
              "      border-color: transparent;\n",
              "      border-right-color: var(--fill-color);\n",
              "      border-top-color: var(--fill-color);\n",
              "    }\n",
              "    60% {\n",
              "      border-color: transparent;\n",
              "      border-right-color: var(--fill-color);\n",
              "    }\n",
              "    80% {\n",
              "      border-color: transparent;\n",
              "      border-right-color: var(--fill-color);\n",
              "      border-bottom-color: var(--fill-color);\n",
              "    }\n",
              "    90% {\n",
              "      border-color: transparent;\n",
              "      border-bottom-color: var(--fill-color);\n",
              "    }\n",
              "  }\n",
              "</style>\n",
              "\n",
              "  <script>\n",
              "    async function quickchart(key) {\n",
              "      const quickchartButtonEl =\n",
              "        document.querySelector('#' + key + ' button');\n",
              "      quickchartButtonEl.disabled = true;  // To prevent multiple clicks.\n",
              "      quickchartButtonEl.classList.add('colab-df-spinner');\n",
              "      try {\n",
              "        const charts = await google.colab.kernel.invokeFunction(\n",
              "            'suggestCharts', [key], {});\n",
              "      } catch (error) {\n",
              "        console.error('Error during call to suggestCharts:', error);\n",
              "      }\n",
              "      quickchartButtonEl.classList.remove('colab-df-spinner');\n",
              "      quickchartButtonEl.classList.add('colab-df-quickchart-complete');\n",
              "    }\n",
              "    (() => {\n",
              "      let quickchartButtonEl =\n",
              "        document.querySelector('#df-fcd08634-1124-4c22-96cb-fc3f00991869 button');\n",
              "      quickchartButtonEl.style.display =\n",
              "        google.colab.kernel.accessAllowed ? 'block' : 'none';\n",
              "    })();\n",
              "  </script>\n",
              "</div>\n",
              "\n",
              "    </div>\n",
              "  </div>\n"
            ],
            "application/vnd.google.colaboratory.intrinsic+json": {
              "type": "dataframe",
              "variable_name": "df",
              "summary": "{\n  \"name\": \"df\",\n  \"rows\": 891,\n  \"fields\": [\n    {\n      \"column\": \"package_name\",\n      \"properties\": {\n        \"dtype\": \"category\",\n        \"num_unique_values\": 23,\n        \"samples\": [\n          \"com.evernote\",\n          \"com.google.android.talk\",\n          \"com.facebook.katana\"\n        ],\n        \"semantic_type\": \"\",\n        \"description\": \"\"\n      }\n    },\n    {\n      \"column\": \"review\",\n      \"properties\": {\n        \"dtype\": \"string\",\n        \"num_unique_values\": 891,\n        \"samples\": [\n          \" love/hate has bug and security issues. i tried to report that facebook and google plus have security issues and it wouldn't allow me to do so! well i just did didn't i! ......\",\n          \" whatsapp i use this app now that blackberry messenger has basically gone away. my friends & family live all over the world. this really helps keep us in touch!\",\n          \" usefully verry  nice app\"\n        ],\n        \"semantic_type\": \"\",\n        \"description\": \"\"\n      }\n    },\n    {\n      \"column\": \"polarity\",\n      \"properties\": {\n        \"dtype\": \"number\",\n        \"std\": 0,\n        \"min\": 0,\n        \"max\": 1,\n        \"num_unique_values\": 2,\n        \"samples\": [\n          1,\n          0\n        ],\n        \"semantic_type\": \"\",\n        \"description\": \"\"\n      }\n    }\n  ]\n}"
            }
          },
          "metadata": {},
          "execution_count": 33
        }
      ],
      "source": [
        "import pandas as pd\n",
        "import numpy as np\n",
        "from sklearn.model_selection import train_test_split\n",
        "from sklearn.feature_extraction.text import CountVectorizer\n",
        "from sklearn.naive_bayes import MultinomialNB, GaussianNB, BernoulliNB\n",
        "from sklearn.metrics import accuracy_score\n",
        "\n",
        "from sklearn.ensemble import RandomForestClassifier\n",
        "from sklearn.model_selection import RandomizedSearchCV\n",
        "\n",
        "\n",
        "#Tal ve me hubiera venido bien comenzar con todas las importaciones del proyecto\n",
        "#anterior, pero creo que tampoco es cuestión de estar importando librerías sin saber\n",
        "#siquiera si las voy a necesitar aquí o no\n",
        "\n",
        "df = pd.read_csv(\"https://raw.githubusercontent.com/4GeeksAcademy/naive-bayes-project-tutorial/main/playstore_reviews.csv\")\n",
        "df.head()"
      ]
    },
    {
      "cell_type": "code",
      "source": [
        "#En este caso no toca hacer ningún EDA, ya que solamente nos dan la review, la app\n",
        "#desde la que la escriben y la \"polarity\" que es 0 o 1 según sea mala o buena la review\n",
        "\n",
        "#Lo primero es eliminar la variable de package_name\n",
        "#Es posible que según cuál sea la aplicación usada haya más reseñas buenas o malas?\n",
        "#Sí, pero hay que entender que lo que estamos buscando no es predecir si van a ser\n",
        "#buenas o malas, sino evaluar si lo son. Para evaluar el contenido de un mensaje\n",
        "#no es necesario saber desde que app se ha escrito\n",
        "\n",
        "#Por otro lado tenemos que \"Eliminar espacios y convertir a minúsculas el texto\"\n",
        "#tal y como indica el enunciado\n",
        "\n",
        "#Puedo hacer una mini función que sea procesar_df\n",
        "\n",
        "def procesar_df(df):\n",
        "    df = df.drop(\"package_name\", axis=1)\n",
        "    df[\"review\"] = df[\"review\"].str.strip().str.lower()\n",
        "    return df\n",
        "\n",
        "df = procesar_df(df)\n"
      ],
      "metadata": {
        "id": "GWCSxlwbAypw"
      },
      "execution_count": 11,
      "outputs": []
    },
    {
      "cell_type": "code",
      "source": [
        "#Bien, ahora ya trabajamos solamente con review y polarity\n",
        "#Hago la separación clásica dejando el 20% para test\n",
        "\n",
        "X = df[\"review\"]\n",
        "y = df[\"polarity\"]\n",
        "\n",
        "X_train, X_test, y_train, y_test = train_test_split(X, y, test_size=0.2, random_state=19)"
      ],
      "metadata": {
        "id": "78u6MIQLCxNx"
      },
      "execution_count": 14,
      "outputs": []
    },
    {
      "cell_type": "code",
      "source": [
        "#Esta parte del código es parte del enunciado. Lo que estamos haciendo es simplemente\n",
        "#convertir la información en una matriz con las frecuencias de cada una, entrenamos\n",
        "#con el transformador y aplicamos el test\n",
        "\n",
        "vec_model = CountVectorizer(stop_words=\"english\")\n",
        "X_train = vec_model.fit_transform(X_train).toarray()\n",
        "X_test = vec_model.transform(X_test).toarray()"
      ],
      "metadata": {
        "id": "1QdcAJlFDd7I"
      },
      "execution_count": 15,
      "outputs": []
    },
    {
      "cell_type": "code",
      "source": [
        "#Ahora el enunciado nos dice que razonemos qué modelo va a tener mejores resultados\n",
        "#entre estos tres: GaussianNB, MultinomialNB o BernoulliNB\n",
        "\n",
        "#Me quedo con el multinomial porque estamos jugando con frecuencias de palabras donde\n",
        "#además el objetivo es binario\n",
        "\n",
        "model = MultinomialNB()\n",
        "model.fit(X_train, y_train)\n",
        "y_pred = model.predict(X_test)"
      ],
      "metadata": {
        "id": "mtLkx623EO_T"
      },
      "execution_count": 18,
      "outputs": []
    },
    {
      "cell_type": "code",
      "source": [
        "#A ver qué tal lo ha hecho\n",
        "accuracy_score(y_test, y_pred)\n",
        "\n",
        "#Un 73,18% no está mal, pero no podemos comprarlo con nada. Ahora toca entrenarlo y\n",
        "#probarlo con los otros dos modelos para ver si estábamos en lo cierto al elegir multinomial"
      ],
      "metadata": {
        "colab": {
          "base_uri": "https://localhost:8080/"
        },
        "id": "8bPzdbfSFDn-",
        "outputId": "fb1b0567-2564-4e31-9990-67b135dd46a9"
      },
      "execution_count": 20,
      "outputs": [
        {
          "output_type": "execute_result",
          "data": {
            "text/plain": [
              "0.7318435754189944"
            ]
          },
          "metadata": {},
          "execution_count": 20
        }
      ]
    },
    {
      "cell_type": "code",
      "source": [
        "model = GaussianNB()\n",
        "model.fit(X_train, y_train)\n",
        "y_pred = model.predict(X_test)\n",
        "accuracy_score(y_test, y_pred)"
      ],
      "metadata": {
        "colab": {
          "base_uri": "https://localhost:8080/"
        },
        "id": "kGpW6_7RFt1s",
        "outputId": "0875fef5-e4cd-4857-a7c2-169a7736a3b2"
      },
      "execution_count": 24,
      "outputs": [
        {
          "output_type": "execute_result",
          "data": {
            "text/plain": [
              "0.7039106145251397"
            ]
          },
          "metadata": {},
          "execution_count": 24
        }
      ]
    },
    {
      "cell_type": "code",
      "source": [
        "model = BernoulliNB()\n",
        "model.fit(X_train, y_train)\n",
        "y_pred = model.predict(X_test)\n",
        "accuracy_score(y_test, y_pred)"
      ],
      "metadata": {
        "colab": {
          "base_uri": "https://localhost:8080/"
        },
        "id": "Kqzs2RbmF82Q",
        "outputId": "639d86af-222e-4f6c-8e47-cbc57e2fff47"
      },
      "execution_count": 25,
      "outputs": [
        {
          "output_type": "execute_result",
          "data": {
            "text/plain": [
              "0.6815642458100558"
            ]
          },
          "metadata": {},
          "execution_count": 25
        }
      ]
    },
    {
      "cell_type": "code",
      "source": [
        "#Pues sí, hemos superado a ambos de manera bastante clara. Siempre hay que tener presente\n",
        "#que aquí estamos hablando de lenguaje natural y que este análisis está teniendo en cuenta\n",
        "#solamente las frecuencias de las palabras (no su orden en una frase o los significados\n",
        "#de las palabras, sino simplemente su correlación con uan review positiva o negativa)\n",
        "\n",
        "#Por qué digo esto? En español podemos decir algo como \"No está nada mal\"\n",
        "#Que tiene las mismas palabras que \"Nada, no está. Mal!\"\n",
        "#Y ambas tienen significados opuestos\n",
        "#Estoy orgulloso de este ejemplo\n",
        "\n",
        "#Sé que estas reviews están en inglés, pero la ironía está presente en mayor o menor\n",
        "#medida en todas las culturas e idiomas\n",
        "\n",
        "#Es por esto que estos modelos son capaces de predecir si la review es buena o no sin\n",
        "#hablar el idioma que están analizando."
      ],
      "metadata": {
        "id": "Jiv2qFWAF-Ze"
      },
      "execution_count": null,
      "outputs": []
    },
    {
      "cell_type": "code",
      "source": [
        "#Ahora toca mejorar este modelo. Una buena forma es con un random forest\n",
        "\n",
        "modelo_rf = RandomForestClassifier(random_state=57)\n",
        "modelo_rf.fit(X_train, y_train)\n",
        "\n",
        "#Hace sus predicciones y evalúa\n",
        "predic_rf = modelo_rf.predict(X_test)\n",
        "precis_rf = accuracy_score(y_test, predic_rf)\n",
        "\n",
        "print(f\"Random Forest Accuracy: {precis_rf}\")\n",
        "\n",
        "#Bastante mejor. He probado con varios random_state y el mejor ha sido 57\n",
        "#Puede parecer que no hay una gran diferencia entre el 73% de antes y el 77% de ahora\n",
        "#pero hayq ue tener en cuenta que acercarnos al 100%, además de imposible, es exponencialmente\n",
        "#más difícil cuanto más cerca estamos, por lo que un 77% sí que es claramente superior a un 73%"
      ],
      "metadata": {
        "colab": {
          "base_uri": "https://localhost:8080/"
        },
        "id": "1t8DICqoILvt",
        "outputId": "ab038764-49f3-4e8f-ef0e-f42fc47df7f1"
      },
      "execution_count": 32,
      "outputs": [
        {
          "output_type": "stream",
          "name": "stdout",
          "text": [
            "Random Forest Accuracy: 0.770949720670391\n"
          ]
        }
      ]
    },
    {
      "cell_type": "code",
      "source": [
        "#Sospecho que hay que optimizar más este modelo. Voy a hacer una busqueda aleatoria\n",
        "#de hiperparámetros para el rf\n",
        "\n",
        "\n",
        "rf_hiperparametros = {\n",
        "    \"n_estimators\": [200, 300, 400, 500],\n",
        "    \"max_depth\": [2, 3, 4, 5, 10, None],\n",
        "    \"min_samples_split\": [2, 3, 5, 10]\n",
        "}\n",
        "\n",
        "rf_random_search = RandomizedSearchCV(\n",
        "    estimator=RandomForestClassifier(random_state=42),\n",
        "    param_distributions=rf_hiperparametros,\n",
        "    n_iter=40,\n",
        "    scoring=\"accuracy\",\n",
        "    cv=3,\n",
        "    random_state=42,\n",
        "    n_jobs=-1\n",
        ")\n",
        "\n",
        "rf_random_search.fit(X_train, y_train)\n",
        "\n",
        "print(f\"Mejores hiperparámetros: {rf_random_search.best_params_}\")\n",
        "\n",
        "#Aquí reentreno con los mejores hiperparámetros\n",
        "best_rf_simple = rf_random_search.best_estimator_\n",
        "best_rf_simple.fit(X_train, y_train)\n",
        "\n",
        "#Y sacamos la evaluación del modelo\n",
        "rf_simple_pred = best_rf_simple.predict(X_test)\n",
        "rf_simple_accuracy = accuracy_score(y_test, rf_simple_pred)\n",
        "print(f\"Random forest optimizado: {rf_simple_accuracy}\")\n",
        "\n",
        "#En este caso parece que no ha sido posible mejorar el random forest original. En cualquier\n",
        "#caso, me quedo con el 77% de performance del rf y el 73% del naive_bayes como comparativa"
      ],
      "metadata": {
        "colab": {
          "base_uri": "https://localhost:8080/"
        },
        "id": "a5LVZ2PTJxeF",
        "outputId": "d008559c-eda4-43fd-c16d-239c5fea63f5"
      },
      "execution_count": 44,
      "outputs": [
        {
          "output_type": "stream",
          "name": "stdout",
          "text": [
            "Mejores hiperparámetros: {'n_estimators': 300, 'min_samples_split': 3, 'max_depth': None}\n",
            "Random forest optimizado: 0.7430167597765364\n"
          ]
        }
      ]
    },
    {
      "cell_type": "code",
      "source": [
        "#Esto era otro modelo que quedó en pruebas también mejores que GaussianNB y que BernoulliNB\n",
        "#pero no mejores que MultinomialNB ni que el random forest"
      ],
      "metadata": {
        "colab": {
          "base_uri": "https://localhost:8080/"
        },
        "id": "giOXaUA5M65Q",
        "outputId": "e7c5866f-ab60-4528-f668-4d57612b27d7"
      },
      "execution_count": 39,
      "outputs": [
        {
          "output_type": "stream",
          "name": "stdout",
          "text": [
            "Mejor modelo encontrado: MultinomialNB(alpha=0.5, fit_prior=False)\n",
            "Mejores hiperparámetros: {'alpha': 0.5, 'fit_prior': False}\n",
            "Exactitud en el conjunto de prueba: 0.7150837988826816\n"
          ]
        }
      ]
    }
  ]
}